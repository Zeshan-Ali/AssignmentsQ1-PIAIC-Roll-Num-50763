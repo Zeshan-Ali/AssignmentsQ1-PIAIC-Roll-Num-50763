{
 "cells": [
  {
   "cell_type": "markdown",
   "metadata": {},
   "source": [
    "# Assignment 1 (Zeeshan Ali  roll Num = PIAIC 50763 , BATCH = 4 FSD )"
   ]
  },
  {
   "cell_type": "code",
   "execution_count": 2,
   "metadata": {},
   "outputs": [
    {
     "name": "stdout",
     "output_type": "stream",
     "text": [
      "Hello Zeeshan Ali age 25.\n",
      "Your Applicationn is accepted for the class of AI at the university PIAIC \n"
     ]
    }
   ],
   "source": [
    "\n",
    "name = \"Zeeshan Ali\"\n",
    "age = 25\n",
    "classs = \"AI\"\n",
    "university = \"PIAIC\"\n",
    "\n",
    "msg = \"\"\"Hello {pName} age {page}.\n",
    "Your Applicationn is accepted for the class of {pclass} at the university {puni} \"\"\".format(pName = name, pclass= classs,\n",
    "                                                                                            page= age, puni = university)\n",
    "\n",
    "print(msg)"
   ]
  },
  {
   "cell_type": "code",
   "execution_count": null,
   "metadata": {},
   "outputs": [],
   "source": []
  }
 ],
 "metadata": {
  "kernelspec": {
   "display_name": "Python 3",
   "language": "python",
   "name": "python3"
  },
  "language_info": {
   "codemirror_mode": {
    "name": "ipython",
    "version": 3
   },
   "file_extension": ".py",
   "mimetype": "text/x-python",
   "name": "python",
   "nbconvert_exporter": "python",
   "pygments_lexer": "ipython3",
   "version": "3.7.4"
  }
 },
 "nbformat": 4,
 "nbformat_minor": 2
}
