{
 "cells": [
  {
   "cell_type": "markdown",
   "metadata": {},
   "source": [
    "# Assignment 3 (Roll Num PIAIC 50763 (Zeshan Ali Batch 4 FSd))\n",
    "\n",
    "## Lists , for loop and Conditional Statements"
   ]
  },
  {
   "cell_type": "markdown",
   "metadata": {},
   "source": [
    "### Q1. Indexing\n",
    "Write code for retriving values from list by indexing and `print` a statement message for given lists\n",
    "```python\n",
    "# Example 1\n",
    "employee_data = ['Ali', 125000, 'Google', 5]\n",
    "```\n",
    "**output:** 'Ali is working in Google for 5 years and his salary is 125000'\n",
    "```python\n",
    "# Example 2\n",
    "studentData = ['Ahmed', 'Bilal', 'Government College University', 'Computer Science', 'BS', 50000,\n",
    "\t\t\t\t'28 Januray 2020', '05 February 2020']\n",
    "```\n",
    "**output:\n",
    "```\n",
    "'Hello Ahmed Bilal,\n",
    "Your application is accepted for admission in \"BS Computer Science\" in Government College University.\n",
    "You have to submit fee 50000 before 28 January 2020.\n",
    "Your classes will start from 05 February 2020.\n",
    "Thanks'\n",
    "```\n",
    "**hint**: Use `list indexing` and `string format` methods"
   ]
  },
  {
   "cell_type": "code",
   "execution_count": 1,
   "metadata": {},
   "outputs": [
    {
     "name": "stdout",
     "output_type": "stream",
     "text": [
      "Ali is working  125000 for Google and his salary is 5.\n"
     ]
    }
   ],
   "source": [
    "# Answer Q1\n",
    "employee_data = ['Ali',125000,'Google',5]\n",
    "\n",
    "msg = \"\"\"{pName} is working  {company} for {pyears} and his salary is {psal}.\"\"\".format(pName = employee_data[0] , \n",
    "                                                                                        company= employee_data[1],\n",
    "                                                                            pyears=employee_data[2], psal =employee_data[3])\n",
    "print(msg)"
   ]
  },
  {
   "cell_type": "markdown",
   "metadata": {},
   "source": [
    "## Q 2. Slicing\n",
    "You have a list of cities given as follows. Use positive and negative slicing methods to print out following outputs:\n",
    "```python\n",
    "cities = [\"Faisalabad\", \"Lahore\", \"Islamabad\", \"Peshawar\", \"Quetta\", \"Sahiwal\", \"Rawalpindi\", \"Sialkot\"]\n",
    "```\n",
    "```\n",
    "Outputs:\n",
    "(For positive slicing)\n",
    "1. [\"Faisalabad\", \"Lahore\", \"Islamabad\", \"Peshawar\"]\n",
    "2. [\"Islamabad\", \"Peshawar\", \"Quetta\", \"Sahiwal\"]\n",
    "3. [\"Sahiwal\", \"Rawalpindi\", \"Sialkot\"]\n",
    "\n",
    "(For negative slicing)\n",
    "1. ['Quetta', 'Sahiwal', 'Rawalpindi']\n",
    "2. ['Peshawar', 'Quetta', 'Sahiwal', 'Rawalpindi', 'Sialkot']\n",
    "```\n"
   ]
  },
  {
   "cell_type": "code",
   "execution_count": 2,
   "metadata": {},
   "outputs": [
    {
     "name": "stdout",
     "output_type": "stream",
     "text": [
      "['Faisalabad', 'Lahore', 'Islamabad', 'Peshawar']\n",
      "['Islamabad', 'Peshawar', 'Quetta', 'Sahiwal']\n",
      "['Sahiwal', 'Rawalpindi', 'Sialkot']\n",
      "['Quetta', 'Sahiwal', 'Rawalpindi']\n",
      "['Peshawar', 'Quetta', 'Sahiwal', 'Rawalpindi', 'Sialkot']\n"
     ]
    }
   ],
   "source": [
    "# Answer Q2\n",
    "\n",
    "cities = [\"Faisalabad\", \"Lahore\", \"Islamabad\", \"Peshawar\", \"Quetta\", \"Sahiwal\", \"Rawalpindi\", \"Sialkot\"]\n",
    "\n",
    "# using positive index slicing\n",
    "print (cities[0:4])\n",
    "print (cities[2:6])\n",
    "print(cities[5:8])\n",
    "\n",
    "#using negative index slicing\n",
    "\n",
    "print(cities[-4:-1])\n",
    "print(cities[-5:])"
   ]
  },
  {
   "cell_type": "markdown",
   "metadata": {},
   "source": [
    "## Q:3. Update Lists\n",
    "You have a list of student information. You need to update it for following statements\n",
    "```python\n",
    "studentData = [\"Ali Raza\", 22, 91.24, \"Computer Science\", 5, \"University of Agriculture\"]\n",
    "```\n",
    "Add values to this list using `append`\n",
    "```\n",
    "1. '20 February 2019'\n",
    "2. 8\n",
    "```\n",
    "Use `insert` method to insert at specific index\n",
    "```\n",
    "1. 25000 at index 4\n",
    "2. 'M. Iqbal' at index 1\n",
    "```\n",
    "\n",
    "Update list using list update method:\n",
    "```\n",
    "1. Change Name from 'Ali Raza' to 'Zohaib Ali'\n",
    "2. Change No of subjects from 5 to 7\n",
    "```\n",
    "Remove values from list using `remove` method\n",
    "```\n",
    "1. 'Computer Science'\n",
    "2. 91.24\n",
    "```\n",
    "Remove using `pop` method\n",
    "```\n",
    "1. Last value from list\n",
    "2. value at 3rd index\n",
    "```"
   ]
  },
  {
   "cell_type": "code",
   "execution_count": 6,
   "metadata": {},
   "outputs": [
    {
     "name": "stdout",
     "output_type": "stream",
     "text": [
      "['Ali Raza', 'M.Iqbal', 22, 91.24, 'Computer Science', 25000, 5, 'University of Agriculture']\n"
     ]
    }
   ],
   "source": [
    "# Answer Q 3 \n",
    "\n",
    "studentData = [\"Ali Raza\", 22, 91.24, \"Computer Science\", 5, \"University of Agriculture\"]\n",
    "\n",
    "# Add values using append methode \n",
    "\n",
    "#studentData.append('20 Feb 2019')\n",
    "#studentData.append(8)\n",
    "\n",
    " # Using `insert` method to insert at specific index\n",
    "#\n",
    " #25000 at index 4\n",
    "  #  'M. Iqbal' at index 1\n",
    "\n",
    "studentData.insert(4,25000)\n",
    "studentData.insert(1,'M.Iqbal')\n",
    "print(studentData)"
   ]
  },
  {
   "cell_type": "code",
   "execution_count": 8,
   "metadata": {},
   "outputs": [
    {
     "name": "stdout",
     "output_type": "stream",
     "text": [
      "['Zohaib Ali', 'M.Iqbal', 22, 91.24, 'Computer Science', 25000, 7, 'University of Agriculture']\n"
     ]
    }
   ],
   "source": [
    "# update list using update Method \n",
    "# 1. Change Name from 'Ali Raza' to 'Zohaib Ali'\n",
    "studentData[0] = 'Zohaib Ali'\n",
    "# 2. Change No of subjects from 5 to 7\n",
    "studentData[6] = 7\n",
    "\n",
    "print(studentData)\n"
   ]
  },
  {
   "cell_type": "code",
   "execution_count": 9,
   "metadata": {},
   "outputs": [
    {
     "name": "stdout",
     "output_type": "stream",
     "text": [
      "['Zohaib Ali', 'M.Iqbal', 22, 91.24, 25000, 7, 'University of Agriculture']\n"
     ]
    }
   ],
   "source": [
    "#Remove values from list using `remove` method\n",
    " # 1.'Computer Science'\n",
    " # 3 2. 91.24\n",
    "studentData.remove(\"Computer Science\")\n",
    "print(studentData)\n"
   ]
  },
  {
   "cell_type": "code",
   "execution_count": 13,
   "metadata": {},
   "outputs": [
    {
     "name": "stdout",
     "output_type": "stream",
     "text": [
      "['Zohaib Ali', 'M.Iqbal', 22, 91.24, 25000, 7]\n",
      "['Zohaib Ali', 'M.Iqbal', 91.24, 25000, 7]\n"
     ]
    }
   ],
   "source": [
    "\n",
    "#Remove using `pop` method\n",
    "#1. Last value from list\n",
    "\n",
    "#studentData.pop(6)\n",
    "print(studentData)\n",
    "#2. value at 3rd index\n",
    "studentData.pop(2)\n",
    "print(studentData)"
   ]
  },
  {
   "cell_type": "markdown",
   "metadata": {},
   "source": [
    "##  Q4. Multidimensional list tasks\n",
    "You have given data of an employee\n",
    "```python\n",
    "employeeData = [[\"Ali\", 35000, \"Software Engineer\"],\n",
    "\t\t\t\t[\"Talha\", 55000, \"Product Manager\"],\n",
    "\t\t\t\t[\"Nasir\", 79000, \"Computer Engineer\"],\n",
    "\t\t\t\t[\"Khalid\", 44000, \"DBA\"]]\n",
    "```\n",
    "#### For Loop\n",
    "**Tasks**\n",
    "```\n",
    "1. Print name of employees with salaray greater than 50000.\n",
    "2. Calculate total salary of all employees.\n",
    "```\n",
    "#### List update tasks\n",
    "```\n",
    "1. Change salary of nasir from 79000 to 90000 and designation to \"Product Manager\"\n",
    "2. Change salary of Khalid to 50000\n",
    "```"
   ]
  },
  {
   "cell_type": "code",
   "execution_count": 17,
   "metadata": {},
   "outputs": [
    {
     "name": "stdout",
     "output_type": "stream",
     "text": [
      "Talha\n",
      "Nasir\n",
      "totoal salary of all employees 213000\n"
     ]
    }
   ],
   "source": [
    "# Answer Q4. \n",
    "# task 1 Print name of employees with salaray greater than 50000.\n",
    "employeeData = [[\"Ali\", 35000, \"Software Engineer\"],\n",
    "                [\"Talha\", 55000, \"Product Manager\"],\n",
    "                [\"Nasir\", 79000, \"Computer Engineer\"],\n",
    "                [\"Khalid\", 44000, \"DBA\"]]\n",
    "for emp in employeeData:\n",
    "    if emp[1] > 50000:\n",
    "        print(emp[0])\n",
    "\n",
    "allemp_totoal_salary = 0 \n",
    "for empp in employeeData:\n",
    "    allemp_totoal_salary += empp[1]\n",
    "    \n",
    "print(\"totoal salary of all employees: \", allemp_totoal_salary)"
   ]
  },
  {
   "cell_type": "code",
   "execution_count": 23,
   "metadata": {},
   "outputs": [
    {
     "name": "stdout",
     "output_type": "stream",
     "text": [
      "[['Ali', 35000, 'Software Engineer'], ['Talha', 55000, 'Product Manager'], ['Nasir', 90000, 'Product Mmanager'], ['Khalid', 44000, 'DBA']]\n",
      "[['Ali', 35000, 'Software Engineer'], ['Talha', 55000, 'Product Manager'], ['Nasir', 90000, 'Product Mmanager'], ['Khalid', 50000, 'DBA']]\n"
     ]
    }
   ],
   "source": [
    "#List update tasks\n",
    " # 1. Change salary of nasir from 79000 to 90000 and designation to \"Product Manager\"\n",
    " \n",
    "\n",
    "employeeData[2][1] = 90000\n",
    "employeeData[2][2] = \"Product Mmanager\"\n",
    "print(employeeData)\n",
    "\n",
    "# 2. Change salary of Khalid to 50000\n",
    "employeeData[3][1] = 50000\n",
    "print(employeeData)\n"
   ]
  },
  {
   "cell_type": "markdown",
   "metadata": {},
   "source": [
    "### 5. Login User\n",
    "You have given some users data. You have to write a script to check if username and password are correct. If `username` and `password` are correct. Then you have to check if email is verified or not. If it is verified then print `Login Succeed` else print `Email not verified`. If username or password are incorrect you have to print `Incorrect Login details`\n",
    "```python\n",
    "# Data 1\n",
    "username = \"faizan1214\"\n",
    "password = \"qwerty\"\n",
    "emailVerified = False\n",
    "\n",
    "# Data 2\n",
    "username = \"faizan1214\"\n",
    "password = \"qwerty\"\n",
    "emailVerified = True\n",
    "```"
   ]
  },
  {
   "cell_type": "code",
   "execution_count": null,
   "metadata": {},
   "outputs": [],
   "source": [
    "username = \"faizan1214\"\n",
    "password = \"qwerty\"\n",
    "if username==\"faizan1214\":\n",
    "    if password == \"qwerty\":\n",
    "        print(\"login successfull\")\n",
    "        print(\"Redirecting\")\n",
    "        \n",
    "    else:\n",
    "        print(\"wrong password\")\n",
    "else:\n",
    "    print(\"invalid username\")"
   ]
  }
 ],
 "metadata": {
  "kernelspec": {
   "display_name": "Python 3",
   "language": "python",
   "name": "python3"
  },
  "language_info": {
   "codemirror_mode": {
    "name": "ipython",
    "version": 3
   },
   "file_extension": ".py",
   "mimetype": "text/x-python",
   "name": "python",
   "nbconvert_exporter": "python",
   "pygments_lexer": "ipython3",
   "version": "3.7.4"
  }
 },
 "nbformat": 4,
 "nbformat_minor": 2
}
