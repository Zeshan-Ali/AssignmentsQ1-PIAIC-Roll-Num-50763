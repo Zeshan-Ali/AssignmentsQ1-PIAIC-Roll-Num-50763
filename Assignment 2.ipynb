{
 "cells": [
  {
   "cell_type": "markdown",
   "metadata": {},
   "source": [
    "#  Assignment 2 (Zeeshan Ali Roll Num  PIAIC 50763)"
   ]
  },
  {
   "cell_type": "markdown",
   "metadata": {},
   "source": [
    "## Assignment Question  1: \n",
    "   write formula of area of circle where radius is 5 , pi is 3.14"
   ]
  },
  {
   "cell_type": "code",
   "execution_count": 2,
   "metadata": {},
   "outputs": [
    {
     "name": "stdout",
     "output_type": "stream",
     "text": [
      " area of the given radius :  78.5\n"
     ]
    }
   ],
   "source": [
    "radius = 5\n",
    "pi = 3.14\n",
    "\n",
    "area = 3.14 * radius**2\n",
    "\n",
    "print (\" area of the given radius : \" , area)\n"
   ]
  },
  {
   "cell_type": "markdown",
   "metadata": {},
   "source": [
    "## Assignment Question 2:\n",
    "\n",
    "  create lists with following values with following names:\n",
    " * cities --> Faislabad,Islamabad, Karachi, Lahore , Quetta\n",
    " * result  --> 93.4, 95, 98.7, 87.4,83.02\n",
    " * score --> 45,70,54,90,42"
   ]
  },
  {
   "cell_type": "code",
   "execution_count": 7,
   "metadata": {},
   "outputs": [
    {
     "name": "stdout",
     "output_type": "stream",
     "text": [
      "['Faisalabad', 'Islamabad', 'Lahore', 'Karachi']\n",
      "['93.4', '95', '87.4', '83.02']\n",
      "['45', '70', '54', '90', '42']\n"
     ]
    }
   ],
   "source": [
    "cities = [\"Faisalabad\", \"Islamabad\",\"Lahore\",\"Karachi\"]\n",
    "result  = [\"93.4\",\"95\",\"87.4\",\"83.02\"]\n",
    "score = [\"45\",\"70\",\"54\",\"90\",\"42\"]\n",
    "\n",
    "print (cities)\n",
    "print(result)\n",
    "print (score)"
   ]
  },
  {
   "cell_type": "code",
   "execution_count": null,
   "metadata": {},
   "outputs": [],
   "source": []
  }
 ],
 "metadata": {
  "kernelspec": {
   "display_name": "Python 3",
   "language": "python",
   "name": "python3"
  },
  "language_info": {
   "codemirror_mode": {
    "name": "ipython",
    "version": 3
   },
   "file_extension": ".py",
   "mimetype": "text/x-python",
   "name": "python",
   "nbconvert_exporter": "python",
   "pygments_lexer": "ipython3",
   "version": "3.7.4"
  }
 },
 "nbformat": 4,
 "nbformat_minor": 2
}
