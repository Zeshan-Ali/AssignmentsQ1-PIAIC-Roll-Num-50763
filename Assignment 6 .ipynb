{
 "cells": [
  {
   "cell_type": "markdown",
   "metadata": {},
   "source": [
    "# 1. Create a class with following methods and attributes\n",
    "1. Write a Python class named Circle constructed by a radius and two methods which will compute the area and the perimeter of a circle\n",
    "---"
   ]
  },
  {
   "cell_type": "code",
   "execution_count": null,
   "metadata": {},
   "outputs": [],
   "source": [
    "# Ans Q1.\n",
    "\n",
    "\n",
    "class Circle():\n",
    "    def __init__(self,radius):\n",
    "        self.rad=radius\n",
    "    \n",
    "    def ComputeArea(self):\n",
    "        area = 3.14 * (self.rad)** 2\n",
    "        return area\n",
    "    def ComputePerimeter(self):\n",
    "        peri = 2 * 3.14 * (self.rad)\n",
    "        return peri\n",
    "    \n",
    "\n",
    "        "
   ]
  },
  {
   "cell_type": "code",
   "execution_count": null,
   "metadata": {},
   "outputs": [],
   "source": [
    "objRad = Circle(4)\n",
    "area = objRad.ComputeArea()\n",
    "print(\"Area of the Circle is :\", area)\n",
    "\n",
    "perimeter = objRad.ComputePerimeter()\n",
    "print(\"Perimeter of the Circlee is:\" , perimeter)"
   ]
  },
  {
   "cell_type": "markdown",
   "metadata": {},
   "source": [
    "## 2. Write a Python class which has two methods get_String and print_String. get_String accept a string from the user and print_String print the string in upper case.\n",
    "---\n"
   ]
  },
  {
   "cell_type": "code",
   "execution_count": null,
   "metadata": {},
   "outputs": [],
   "source": [
    "# Ans Q 2\n",
    "\n",
    "class String():\n",
    "    def __init(slef,string):\n",
    "        self.string = \"\"\n",
    "    \n",
    "    def get_string(self):\n",
    "        self.string = input(\"enter your string:\")\n",
    "    def print_string(self):\n",
    "        print(self.string.upper())"
   ]
  },
  {
   "cell_type": "code",
   "execution_count": null,
   "metadata": {},
   "outputs": [],
   "source": [
    "ob = String()\n",
    "ob.get_string()\n",
    "ob.print_string()\n"
   ]
  },
  {
   "cell_type": "code",
   "execution_count": null,
   "metadata": {},
   "outputs": [],
   "source": []
  },
  {
   "cell_type": "markdown",
   "metadata": {},
   "source": [
    "# 3. Write a Python class to reverse a string word by word. - Go to the editor\n",
    "   * Input string : 'hello .py'\n",
    "    * Expected Output : '.py hello'"
   ]
  },
  {
   "cell_type": "code",
   "execution_count": 5,
   "metadata": {},
   "outputs": [],
   "source": [
    "# Ans Q 3\n",
    "\n",
    "class RevStringByWord():\n",
    "    def __init(slef,string):\n",
    "        self.string = \"\"\n",
    "   \n",
    "    def get_string(self):\n",
    "        self.string = input(\"enter your string:\")        #getting input from the user \n",
    "        return self.string\n",
    "    def reverseWords(self,string): \n",
    "        inputWords = string.split(\" \")\n",
    "        inputWords=inputWords[-1::-1]            # reversing the string \n",
    "        output = ' '.join(inputWords)            # joining with space\n",
    "        return output "
   ]
  },
  {
   "cell_type": "code",
   "execution_count": 9,
   "metadata": {},
   "outputs": [
    {
     "name": "stdout",
     "output_type": "stream",
     "text": [
      "enter your string:Zeeshan Ali Shoban\n"
     ]
    },
    {
     "data": {
      "text/plain": [
       "'Shoban Ali Zeeshan'"
      ]
     },
     "execution_count": 9,
     "metadata": {},
     "output_type": "execute_result"
    }
   ],
   "source": [
    "ob1 = RevStringByWord()           # crearing object\n",
    "c = ob1.get_string()        # calling get_string methode\n",
    "ob1.reverseWords(c)          #calling reservewords method\n",
    "\n"
   ]
  },
  {
   "cell_type": "code",
   "execution_count": null,
   "metadata": {},
   "outputs": [],
   "source": []
  },
  {
   "cell_type": "code",
   "execution_count": null,
   "metadata": {},
   "outputs": [],
   "source": [
    "\n"
   ]
  }
 ],
 "metadata": {
  "kernelspec": {
   "display_name": "Python 3",
   "language": "python",
   "name": "python3"
  },
  "language_info": {
   "codemirror_mode": {
    "name": "ipython",
    "version": 3
   },
   "file_extension": ".py",
   "mimetype": "text/x-python",
   "name": "python",
   "nbconvert_exporter": "python",
   "pygments_lexer": "ipython3",
   "version": "3.7.4"
  }
 },
 "nbformat": 4,
 "nbformat_minor": 2
}
