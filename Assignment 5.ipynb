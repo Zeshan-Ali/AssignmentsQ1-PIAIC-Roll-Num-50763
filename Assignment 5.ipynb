{
 "cells": [
  {
   "cell_type": "markdown",
   "metadata": {},
   "source": [
    "# Assignment 5 (Zeshan Ali Roll num PIAIC 50763)"
   ]
  },
  {
   "cell_type": "markdown",
   "metadata": {},
   "source": [
    "#### 1. Calculate area of circle.\n",
    "You have given radius of circle. You need to write a function `calcArea` to calculate its area. Where `pi=3.14`. You have to access following test cases.\n",
    "> Set `pi` as default argument\n",
    "```python\n",
    "r = 8.7\n",
    "r = 9.2\n",
    "r = 16.03\n",
    "```"
   ]
  },
  {
   "cell_type": "code",
   "execution_count": 11,
   "metadata": {},
   "outputs": [],
   "source": [
    "# Solution task 1:\n",
    "\n",
    "def calcArea(r,pi=3.14):    # function calcArea that return the are according to given radius having pi as default parameter\n",
    "    area = pi * (r**2)           \n",
    "    return  area               #return statement\n",
    "\n"
   ]
  },
  {
   "cell_type": "code",
   "execution_count": 12,
   "metadata": {},
   "outputs": [
    {
     "name": "stdout",
     "output_type": "stream",
     "text": [
      "The area according to first case:  237.66659999999996\n"
     ]
    }
   ],
   "source": [
    "print (\"The area according to first case: \", calcArea(8.7))"
   ]
  },
  {
   "cell_type": "code",
   "execution_count": 13,
   "metadata": {},
   "outputs": [
    {
     "name": "stdout",
     "output_type": "stream",
     "text": [
      "The area according to 2nd case:  265.76959999999997\n"
     ]
    }
   ],
   "source": [
    "print (\"The area according to 2nd case: \",calcArea(9.2))"
   ]
  },
  {
   "cell_type": "code",
   "execution_count": 14,
   "metadata": {},
   "outputs": [
    {
     "name": "stdout",
     "output_type": "stream",
     "text": [
      "The area according to 3rd case:  806.8572260000002\n"
     ]
    }
   ],
   "source": [
    "print (\"The area according to 3rd case: \",calcArea(16.03))"
   ]
  },
  {
   "cell_type": "markdown",
   "metadata": {},
   "source": [
    "#### 2. Write function to check if a value exists in a list\n",
    "You have to create a function `checkVal` that accepts a list and finds a number in that list. You will not use built-in function.\n",
    "**hint:**\n",
    "> Use loop (while/for)\n",
    "> Use comparision operator\n",
    "\n",
    "You have this data given\n",
    "```python\n",
    "data = [\"python\", \"r\", \"java\", \"pascal\", \"c\", \"javascript\", \"assembley\", \"html\", \"c++\"]\n",
    "\n",
    "# Value to find\n",
    "\"python\"\n",
    "\"html\"\n",
    "\"c\"\n",
    "```"
   ]
  },
  {
   "cell_type": "code",
   "execution_count": 16,
   "metadata": {},
   "outputs": [],
   "source": [
    "# Solution task 2\n",
    "\n",
    "data = [\"python\", \"r\", \"java\", \"pascal\", \"c\", \"javascript\", \"assembley\", \"html\", \"c++\"]   # given list \n",
    "\n",
    "\n",
    "def checkVal(listt):\n",
    "    valToFind = input(\"Enter Value name which you want to find:\")            # value enterd by user to find in list\n",
    "    for i in range(0,len(listt)):\n",
    "        if (listt[i] == valToFind):             # comparing each elementof list with enterd value by user,returns True if found \n",
    "            print(\"Value find here in list :\", listt[i])              \n",
    "            break\n",
    "    else:\n",
    "        print(\" value is not in the given list\")                 # in case of wrong entry this message will display\n"
   ]
  },
  {
   "cell_type": "code",
   "execution_count": 12,
   "metadata": {},
   "outputs": [
    {
     "name": "stdout",
     "output_type": "stream",
     "text": [
      "Enter Value name which you want to find:python\n",
      "Value find here in list : python\n"
     ]
    }
   ],
   "source": [
    "checkVal(data)   # for finding python"
   ]
  },
  {
   "cell_type": "code",
   "execution_count": 13,
   "metadata": {},
   "outputs": [
    {
     "name": "stdout",
     "output_type": "stream",
     "text": [
      "Enter Value name which you want to find:html\n",
      "Value find here in list : html\n"
     ]
    }
   ],
   "source": [
    "checkVal(data)   # for finding html"
   ]
  },
  {
   "cell_type": "code",
   "execution_count": 14,
   "metadata": {},
   "outputs": [
    {
     "name": "stdout",
     "output_type": "stream",
     "text": [
      "Enter Value name which you want to find:c\n",
      "Value find here in list : c\n"
     ]
    }
   ],
   "source": [
    "checkVal(data)   # for finding c"
   ]
  },
  {
   "cell_type": "code",
   "execution_count": 15,
   "metadata": {},
   "outputs": [
    {
     "name": "stdout",
     "output_type": "stream",
     "text": [
      "Enter Value name which you want to find:viual basic\n",
      " value is not in the given list\n"
     ]
    }
   ],
   "source": [
    "checkVal(data)   # for other values"
   ]
  },
  {
   "cell_type": "markdown",
   "metadata": {},
   "source": [
    "#### 3. Write a function to shift list item to right n times\n",
    "You have given a data list. You have to write a function `shiftItems` which accepts 2 parameters `ListName` and `n`(No of times to shift)\n",
    "```python\n",
    "data = [\"python\", \"r\", \"java\", \"pascal\", \"c\", \"javascript\", \"assembley\", \"html\", \"c++\"]\n",
    "```\n",
    "If we want to shift its values 3 times to right, so output will be like\n",
    "```\n",
    "data = [\"assembley\", \"html\", \"c++\", \"python\", \"r\", \"java\", \"pascal\", \"c\", \"javascript\"]\n",
    "```\n",
    "If we shift it 1 time out will be\n",
    "```python\n",
    "data = [\"c++\", \"python\", \"r\", \"java\", \"pascal\", \"c\", \"javascript\", \"assembley\", \"html\"]\n",
    "```\n",
    "Your task is to write a function for this to shift items."
   ]
  },
  {
   "cell_type": "code",
   "execution_count": 24,
   "metadata": {},
   "outputs": [],
   "source": [
    "# Solution task 3\n",
    "\n",
    "targetList = [\"python\", \"r\", \"java\", \"pascal\", \"c\", \"javascript\", \"assembley\", \"html\", \"c++\"]\n",
    "requiredList = []\n",
    "\n",
    "def shiftItems(ListName,n):\n",
    "    \n",
    "    for item in range (len(ListName)-n,len(ListName)): # this loop will not iterate  till total(length-n) index within list \n",
    "        requiredList.append(ListName[item])                # then we add the remaining in the required list\n",
    "    for item in range(0,len(ListName)-n):              # this loop will iterate from 0 index to n\n",
    "        requiredList.append(ListName[item]  # then add the elements to the newly created required list which is required output\n",
    "    return requiredList                                 # returns the required output list\n",
    "\n",
    "        \n",
    "\n"
   ]
  },
  {
   "cell_type": "code",
   "execution_count": 22,
   "metadata": {},
   "outputs": [
    {
     "data": {
      "text/plain": [
       "['assembley',\n",
       " 'html',\n",
       " 'c++',\n",
       " 'python',\n",
       " 'r',\n",
       " 'java',\n",
       " 'pascal',\n",
       " 'c',\n",
       " 'javascript']"
      ]
     },
     "execution_count": 22,
     "metadata": {},
     "output_type": "execute_result"
    }
   ],
   "source": [
    "shiftItems(targetList,3)       # shifting item by 3 "
   ]
  },
  {
   "cell_type": "code",
   "execution_count": 25,
   "metadata": {},
   "outputs": [
    {
     "data": {
      "text/plain": [
       "['c++',\n",
       " 'python',\n",
       " 'r',\n",
       " 'java',\n",
       " 'pascal',\n",
       " 'c',\n",
       " 'javascript',\n",
       " 'assembley',\n",
       " 'html']"
      ]
     },
     "execution_count": 25,
     "metadata": {},
     "output_type": "execute_result"
    }
   ],
   "source": [
    "shiftItems(targetList,1) # shifting items by 1"
   ]
  },
  {
   "cell_type": "code",
   "execution_count": null,
   "metadata": {},
   "outputs": [],
   "source": []
  }
 ],
 "metadata": {
  "kernelspec": {
   "display_name": "Python 3",
   "language": "python",
   "name": "python3"
  },
  "language_info": {
   "codemirror_mode": {
    "name": "ipython",
    "version": 3
   },
   "file_extension": ".py",
   "mimetype": "text/x-python",
   "name": "python",
   "nbconvert_exporter": "python",
   "pygments_lexer": "ipython3",
   "version": "3.7.4"
  }
 },
 "nbformat": 4,
 "nbformat_minor": 2
}
