{
 "cells": [
  {
   "cell_type": "markdown",
   "metadata": {},
   "source": [
    "# Assignment 5 (Zeshan Ali Roll num PIAIC 50763)"
   ]
  },
  {
   "cell_type": "markdown",
   "metadata": {},
   "source": [
    "#### 1. Calculate area of circle.\n",
    "You have given radius of circle. You need to write a function `calcArea` to calculate its area. Where `pi=3.14`. You have to access following test cases.\n",
    "> Set `pi` as default argument\n",
    "```python\n",
    "r = 8.7\n",
    "r = 9.2\n",
    "r = 16.03\n",
    "```"
   ]
  },
  {
   "cell_type": "code",
   "execution_count": null,
   "metadata": {},
   "outputs": [],
   "source": [
    "# Solution task 1:\n",
    "\n",
    "def calcArea(r,pi=3.14):    # function calcArea that return the are according to given radius having pi as default parameter\n",
    "    area = pi * (r**2)           \n",
    "    return  area               #return statement\n",
    "\n"
   ]
  },
  {
   "cell_type": "code",
   "execution_count": null,
   "metadata": {},
   "outputs": [],
   "source": [
    "print (\"The area according to first case: \", calcArea(8.7))"
   ]
  },
  {
   "cell_type": "code",
   "execution_count": null,
   "metadata": {},
   "outputs": [],
   "source": [
    "print (\"The area according to 2nd case: \",calcArea(9.2))"
   ]
  },
  {
   "cell_type": "code",
   "execution_count": null,
   "metadata": {},
   "outputs": [],
   "source": [
    "print (\"The area according to 3rd case: \",calcArea(16.03))"
   ]
  },
  {
   "cell_type": "markdown",
   "metadata": {},
   "source": [
    "#### 2. Write function to check if a value exists in a list\n",
    "You have to create a function `checkVal` that accepts a list and finds a number in that list. You will not use built-in function.\n",
    "**hint:**\n",
    "> Use loop (while/for)\n",
    "> Use comparision operator\n",
    "\n",
    "You have this data given\n",
    "```python\n",
    "data = [\"python\", \"r\", \"java\", \"pascal\", \"c\", \"javascript\", \"assembley\", \"html\", \"c++\"]\n",
    "\n",
    "# Value to find\n",
    "\"python\"\n",
    "\"html\"\n",
    "\"c\"\n",
    "```"
   ]
  },
  {
   "cell_type": "code",
   "execution_count": null,
   "metadata": {},
   "outputs": [],
   "source": [
    "# Solution task 2\n",
    "\n",
    "data = [\"python\", \"r\", \"java\", \"pascal\", \"c\", \"javascript\", \"assembley\", \"html\", \"c++\"]   # given list \n",
    "\n",
    "\n",
    "def checkVal(listt):\n",
    "    valToFind = input(\"Enter Value name which you want to find:\")            # value enterd by user to find in list\n",
    "    for i in range(0,len(listt)):\n",
    "        if (listt[i] == valToFind):             # comparing each elementof list with enterd value by user,returns True if found \n",
    "            print(\"Value find here in list :\", listt[i])              \n",
    "            break\n",
    "    else:\n",
    "        print(\" value is not in the given list\")                 # in case of wrong entry this message will display\n"
   ]
  },
  {
   "cell_type": "code",
   "execution_count": null,
   "metadata": {},
   "outputs": [],
   "source": [
    "checkVal(data)   # for finding python"
   ]
  },
  {
   "cell_type": "code",
   "execution_count": null,
   "metadata": {},
   "outputs": [],
   "source": [
    "checkVal(data)   # for finding html"
   ]
  },
  {
   "cell_type": "code",
   "execution_count": null,
   "metadata": {},
   "outputs": [],
   "source": [
    "checkVal(data)   # for finding c"
   ]
  },
  {
   "cell_type": "code",
   "execution_count": null,
   "metadata": {},
   "outputs": [],
   "source": [
    "checkVal(data)   # for other values"
   ]
  },
  {
   "cell_type": "markdown",
   "metadata": {},
   "source": [
    "#### 3. Write a function to shift list item to right n times\n",
    "You have given a data list. You have to write a function `shiftItems` which accepts 2 parameters `ListName` and `n`(No of times to shift)\n",
    "```python\n",
    "data = [\"python\", \"r\", \"java\", \"pascal\", \"c\", \"javascript\", \"assembley\", \"html\", \"c++\"]\n",
    "```\n",
    "If we want to shift its values 3 times to right, so output will be like\n",
    "```\n",
    "data = [\"assembley\", \"html\", \"c++\", \"python\", \"r\", \"java\", \"pascal\", \"c\", \"javascript\"]\n",
    "```\n",
    "If we shift it 1 time out will be\n",
    "```python\n",
    "data = [\"c++\", \"python\", \"r\", \"java\", \"pascal\", \"c\", \"javascript\", \"assembley\", \"html\"]\n",
    "```\n",
    "Your task is to write a function for this to shift items."
   ]
  },
  {
   "cell_type": "code",
   "execution_count": null,
   "metadata": {},
   "outputs": [],
   "source": [
    "# Solution task 3\n",
    "\n",
    "targetList = [\"python\", \"r\", \"java\", \"pascal\", \"c\", \"javascript\", \"assembley\", \"html\", \"c++\"]\n",
    "requiredList = []\n",
    "\n",
    "def shiftItems(ListName,n):\n",
    "    \n",
    "    for item in range (len(ListName)-n,len(ListName)): # this loop will not iterate  till total(length-n) index within list \n",
    "        requiredList.append(ListName[item])                # then we add the remaining in the required list\n",
    "    for item in range(0,len(ListName)-n):              # this loop will iterate from 0 index to n\n",
    "        requiredList.append(ListName[item]  # then add the elements to the newly created required list which is required output\n",
    "    return requiredList                                 # returns the required output list\n",
    "\n",
    "        \n",
    "\n"
   ]
  },
  {
   "cell_type": "code",
   "execution_count": null,
   "metadata": {},
   "outputs": [],
   "source": [
    "shiftItems(targetList,3)       # shifting item by 3 "
   ]
  },
  {
   "cell_type": "code",
   "execution_count": null,
   "metadata": {},
   "outputs": [],
   "source": [
    "shiftItems(targetList,1) # shifting items by 1"
   ]
  },
  {
   "cell_type": "markdown",
   "metadata": {},
   "source": [
    "#### 4. Use while loop to get data\n",
    "You have to write a while loop to get input from user for `radius of circle`.\n",
    "If user enters `quit`, break the loop, otherwise call `calcArea` function to get area of cricle from radius and print `area of circle`."
   ]
  },
  {
   "cell_type": "code",
   "execution_count": null,
   "metadata": {},
   "outputs": [],
   "source": [
    "#Solution 5\n",
    "\n",
    "pompt = \"yes\"\n",
    "\n",
    "while pompt != \"quit\":\n",
    "    r = int(input(\"Enter Radius of circle :\"))\n",
    "    areaofCir = calcArea(r)\n",
    "    print(\"Area is:\", areaofCir)\n",
    "    pompt= input(\"Do you want to find area once again?  enter yes for continue , quit for quitting : \")"
   ]
  },
  {
   "cell_type": "markdown",
   "metadata": {},
   "source": [
    "#### 5. Function with `**kwargs`:\n",
    "Write function `showDetails` that takes five positional arguments and receives as dictionary with `**kwargs` and print in formatted way.\n",
    "Input data is as follows.\n",
    "```python\n",
    "name = \"Ali\", class = \"AI\", marks = {\"math\" : 50, \"physics\" : 80, \"biology\" : 90, \"computer\" : 67}, date = \"1 Feb 2020\", nextClass = True\n",
    "```\n",
    "Now write a function\n",
    "```python\n",
    "def showDetails(**kwargs):\n",
    "    # Your code here\n",
    "```\n",
    "Output should be as follows\n",
    "```\n",
    "Hello Ali\n",
    "Here is your result for class of AI.\n",
    "Your score card is as follows.\n",
    "ClassMarks:\n",
    "    math : 50\n",
    "    physics : 80\n",
    "    biology : 90\n",
    "    computer : 67\n",
    "Total marks are: 287\n",
    "Percentage is as follows: 71.75%\n",
    "Maximum marks are in \"Biology\"\n",
    "Minimum marks are in \"Math\"\n",
    "You are promoted to next class.\n",
    "```\n",
    "Note\n",
    "> Use functions and methods to solve total marks and percentage.\n"
   ]
  },
  {
   "cell_type": "code",
   "execution_count": 20,
   "metadata": {},
   "outputs": [],
   "source": []
  },
  {
   "cell_type": "code",
   "execution_count": 29,
   "metadata": {},
   "outputs": [],
   "source": [
    "\n",
    "def showDetails(name, classs, date, nextClass, **marks):\n",
    "    tot=0\n",
    "    for key,val in marks.items():\n",
    "        obttot=0\n",
    "        for v in val.values():\n",
    "            obttot += v\n",
    "        per = (obttot/400) * 100\n",
    "    msg =\"\"\"Hello {fName} \n",
    "    Here is your result for class {pclass}.\n",
    "    Yur score card is as follows.\n",
    "    Class marks:\n",
    "      math : {mths}\n",
    "    physics : {phy}\n",
    "    biology : {bio}\n",
    "    computer : {cmp}\n",
    "Total marks are: {tt}\n",
    "Percentage is as follows: {perc}\n",
    "Maximum marks are in \"Biology\"\n",
    "Minimum marks are in \"Math\"\n",
    "You are promoted to {nxtclass}.\"\"\".format(fName = name,pclass= classs,nxtclass=nextClass,mths=val.get(\"math\"),\n",
    "                                         phy=val.get(\"physics\"),bio=val.get(\"biology\"),cmp=val.get(\"computer\"),\n",
    "                                          tt=obttot,perc=per)\n",
    "    print(msg)\n",
    "        \n",
    "    \n"
   ]
  },
  {
   "cell_type": "code",
   "execution_count": 30,
   "metadata": {},
   "outputs": [
    {
     "name": "stdout",
     "output_type": "stream",
     "text": [
      "Hello Zeeshan \n",
      "    Here is your result for class AI.\n",
      "    Yur score card is as follows.\n",
      "    Class marks:\n",
      "      math : 50\n",
      "    physics : 80\n",
      "    biology : 90\n",
      "    computer : 67\n",
      "Total marks are: 287\n",
      "Percentage is as follows: 71.75\n",
      "Maximum marks are in \"Biology\"\n",
      "Minimum marks are in \"Math\"\n",
      "You are promoted to True.\n"
     ]
    }
   ],
   "source": [
    "showDetails(\"Zeeshan\",\"AI\",\"20 feb 2020\",True,marks ={\"math\":50,\"physics\":80,\"biology\":90,\"computer\":67})"
   ]
  },
  {
   "cell_type": "code",
   "execution_count": null,
   "metadata": {},
   "outputs": [],
   "source": []
  },
  {
   "cell_type": "code",
   "execution_count": null,
   "metadata": {},
   "outputs": [],
   "source": []
  },
  {
   "cell_type": "code",
   "execution_count": null,
   "metadata": {},
   "outputs": [],
   "source": []
  },
  {
   "cell_type": "code",
   "execution_count": null,
   "metadata": {},
   "outputs": [],
   "source": []
  },
  {
   "cell_type": "code",
   "execution_count": null,
   "metadata": {},
   "outputs": [],
   "source": []
  }
 ],
 "metadata": {
  "kernelspec": {
   "display_name": "Python 3",
   "language": "python",
   "name": "python3"
  },
  "language_info": {
   "codemirror_mode": {
    "name": "ipython",
    "version": 3
   },
   "file_extension": ".py",
   "mimetype": "text/x-python",
   "name": "python",
   "nbconvert_exporter": "python",
   "pygments_lexer": "ipython3",
   "version": "3.7.4"
  }
 },
 "nbformat": 4,
 "nbformat_minor": 2
}
